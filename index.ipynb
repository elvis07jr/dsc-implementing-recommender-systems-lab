{
 "cells": [
  {
   "cell_type": "markdown",
   "metadata": {},
   "source": [
    "# Implementing Recommender Systems - Lab\n",
    "\n",
    "## Introduction\n",
    "\n",
    "In this lab, you'll practice creating a recommender system model using `surprise`. You'll also get the chance to create a more complete recommender system pipeline to obtain the top recommendations for a specific user.\n"
   ]
  },
  {
   "cell_type": "markdown",
   "metadata": {},
   "source": [
    "## Objectives\n",
    "\n",
    "In this lab you will: \n",
    "\n",
    "- Use surprise's built-in reader class to process data to work with recommender algorithms \n",
    "- Obtain a prediction for a specific user for a particular item \n",
    "- Introduce a new user with rating to a rating matrix and make recommendations for them \n",
    "- Create a function that will return the top n recommendations for a user \n"
   ]
  },
  {
   "cell_type": "markdown",
   "metadata": {},
   "source": [
    "For this lab, we will be using the famous 1M movie dataset. It contains a collection of user ratings for many different movies. In the last lesson, you were exposed to working with `surprise` datasets. In this lab, you will also go through the process of reading in a dataset into the `surprise` dataset format. To begin with, load the dataset into a Pandas DataFrame. Determine which columns are necessary for your recommendation system and drop any extraneous ones."
   ]
  },
  {
   "cell_type": "code",
   "execution_count": 2,
   "metadata": {},
   "outputs": [
    {
     "name": "stdout",
     "output_type": "stream",
     "text": [
      "<class 'pandas.core.frame.DataFrame'>\n",
      "RangeIndex: 100836 entries, 0 to 100835\n",
      "Data columns (total 4 columns):\n",
      " #   Column     Non-Null Count   Dtype  \n",
      "---  ------     --------------   -----  \n",
      " 0   userId     100836 non-null  int64  \n",
      " 1   movieId    100836 non-null  int64  \n",
      " 2   rating     100836 non-null  float64\n",
      " 3   timestamp  100836 non-null  int64  \n",
      "dtypes: float64(1), int64(3)\n",
      "memory usage: 3.1 MB\n"
     ]
    }
   ],
   "source": [
    "import pandas as pd\n",
    "df = pd.read_csv('./ml-latest-small/ratings.csv')\n",
    "df.info()"
   ]
  },
  {
   "cell_type": "code",
   "execution_count": 3,
   "metadata": {},
   "outputs": [],
   "source": [
    "# Drop unnecessary columns\n",
    "new_df = df.drop(columns=['timestamp'])"
   ]
  },
  {
   "cell_type": "markdown",
   "metadata": {},
   "source": [
    "It's now time to transform the dataset into something compatible with `surprise`. In order to do this, you're going to need `Reader` and `Dataset` classes. There's a method in `Dataset` specifically for loading dataframes."
   ]
  },
  {
   "cell_type": "code",
   "execution_count": 4,
   "metadata": {},
   "outputs": [
    {
     "data": {
      "text/plain": [
       "<surprise.dataset.DatasetAutoFolds at 0x1b5316726a0>"
      ]
     },
     "execution_count": 4,
     "metadata": {},
     "output_type": "execute_result"
    }
   ],
   "source": [
    "from surprise import Reader, Dataset\n",
    "# read in values as Surprise dataset \n",
    "from surprise import Reader, Dataset\n",
    "# read in values as Surprise dataset\n",
    "reader = Reader(rating_scale=(0.5, 5.0))\n",
    "\n",
    "data = Dataset.load_from_df(new_df, reader)\n",
    "data\n"
   ]
  },
  {
   "cell_type": "markdown",
   "metadata": {},
   "source": [
    "Let's look at how many users and items we have in our dataset. If using neighborhood-based methods, this will help us determine whether or not we should perform user-user or item-item similarity"
   ]
  },
  {
   "cell_type": "code",
   "execution_count": 5,
   "metadata": {},
   "outputs": [
    {
     "name": "stdout",
     "output_type": "stream",
     "text": [
      "Number of users:  610 \n",
      "\n",
      "Number of items:  9724\n"
     ]
    }
   ],
   "source": [
    "dataset = data.build_full_trainset()\n",
    "print('Number of users: ', dataset.n_users, '\\n')\n",
    "print('Number of items: ', dataset.n_items)"
   ]
  },
  {
   "cell_type": "markdown",
   "metadata": {},
   "source": [
    "## Determine the best model \n",
    "\n",
    "Now, compare the different models and see which ones perform best. For consistency sake, use RMSE to evaluate models. Remember to cross-validate! Can you get a model with a higher average RMSE on test data than 0.869?"
   ]
  },
  {
   "cell_type": "code",
   "execution_count": 6,
   "metadata": {},
   "outputs": [],
   "source": [
    "# importing relevant libraries\n",
    "from surprise.model_selection import cross_validate\n",
    "from surprise.prediction_algorithms import SVD\n",
    "from surprise.prediction_algorithms import KNNWithMeans, KNNBasic, KNNBaseline\n",
    "from surprise.model_selection import GridSearchCV\n",
    "import numpy as np"
   ]
  },
  {
   "cell_type": "code",
   "execution_count": 7,
   "metadata": {},
   "outputs": [
    {
     "name": "stderr",
     "output_type": "stream",
     "text": [
      "[Parallel(n_jobs=-1)]: Using backend LokyBackend with 8 concurrent workers.\n",
      "[Parallel(n_jobs=-1)]: Done   2 tasks      | elapsed:    2.4s\n",
      "[Parallel(n_jobs=-1)]: Done  56 tasks      | elapsed:   10.1s\n",
      "[Parallel(n_jobs=-1)]: Done  80 out of  80 | elapsed:   15.5s finished\n"
     ]
    }
   ],
   "source": [
    "## Perform a gridsearch with SVD\n",
    "# ⏰ This cell may take several minutes to run\n",
    "param_grid = {\n",
    "    'n_factors': [20, 100],\n",
    "    'n_epochs': [5, 10],\n",
    "    'lr_all': [0.002, 0.005],\n",
    "    'reg_all': [0.05, 0.6]\n",
    "}\n",
    "gs = GridSearchCV(SVD, param_grid=param_grid, n_jobs=-1, joblib_verbose=5)\n",
    "gs.fit(data)"
   ]
  },
  {
   "cell_type": "code",
   "execution_count": 8,
   "metadata": {},
   "outputs": [
    {
     "name": "stdout",
     "output_type": "stream",
     "text": [
      "Best RMSE: 0.8778022067864594\n",
      "Best params: {'n_factors': 20, 'n_epochs': 10, 'lr_all': 0.005, 'reg_all': 0.05}\n"
     ]
    }
   ],
   "source": [
    "# print out optimal parameters for SVD after GridSearch\n",
    "print('Best RMSE:', gs.best_score['rmse' ])\n",
    "\n",
    "# Best parameters\n",
    "print('Best params:', gs.best_params['rmse' ])"
   ]
  },
  {
   "cell_type": "code",
   "execution_count": 9,
   "metadata": {},
   "outputs": [
    {
     "name": "stdout",
     "output_type": "stream",
     "text": [
      "Computing the pearson similarity matrix...\n",
      "Done computing similarity matrix.\n",
      "Computing the pearson similarity matrix...\n",
      "Done computing similarity matrix.\n",
      "Computing the pearson similarity matrix...\n",
      "Done computing similarity matrix.\n",
      "Computing the pearson similarity matrix...\n",
      "Done computing similarity matrix.\n",
      "Computing the pearson similarity matrix...\n",
      "Done computing similarity matrix.\n",
      "Evaluating RMSE of algorithm KNNBasic on 5 split(s).\n",
      "\n",
      "                  Fold 1  Fold 2  Fold 3  Fold 4  Fold 5  Mean    Std     \n",
      "RMSE (testset)    0.9741  0.9759  0.9748  0.9727  0.9666  0.9728  0.0033  \n",
      "Fit time          0.43    0.44    0.45    0.48    0.47    0.45    0.02    \n",
      "Test time         1.55    1.87    1.53    2.29    1.67    1.78    0.28    \n",
      "{'test_rmse': array([0.97406541, 0.97590612, 0.97479464, 0.97271347, 0.96662503]), 'fit_time': (0.42798924446105957, 0.44288063049316406, 0.4472522735595703, 0.4770019054412842, 0.46901392936706543), 'test_time': (1.5490391254425049, 1.8721392154693604, 1.5346336364746094, 2.294872760772705, 1.6708934307098389)}\n"
     ]
    }
   ],
   "source": [
    "# cross validating with KNNBasic\n",
    "sim_pearson = {\"name\": \"pearson\"}\n",
    "\n",
    "# Initialize the KNNBasic algorithm with the specified similarity options\n",
    "basic_pearson = KNNBasic(sim_options=sim_pearson)\n",
    "\n",
    "# Cross-validate with 5 folds, using RMSE as the metric\n",
    "results = cross_validate(basic_pearson, data, measures=['rmse'], cv=5, verbose=True)\n",
    "print(results)"
   ]
  },
  {
   "cell_type": "code",
   "execution_count": 10,
   "metadata": {},
   "outputs": [
    {
     "name": "stdout",
     "output_type": "stream",
     "text": [
      "Average RMSE score for the test set: 0.9728\n"
     ]
    }
   ],
   "source": [
    "# print out the average RMSE score for the test set\n",
    "average_rmse = results['test_rmse'].mean()\n",
    "print(f\"Average RMSE score for the test set: {average_rmse:.4f}\")"
   ]
  },
  {
   "cell_type": "code",
   "execution_count": 11,
   "metadata": {},
   "outputs": [
    {
     "name": "stdout",
     "output_type": "stream",
     "text": [
      "Estimating biases using als...\n",
      "Computing the pearson similarity matrix...\n",
      "Done computing similarity matrix.\n",
      "Estimating biases using als...\n",
      "Computing the pearson similarity matrix...\n",
      "Done computing similarity matrix.\n",
      "Estimating biases using als...\n",
      "Computing the pearson similarity matrix...\n",
      "Done computing similarity matrix.\n",
      "Estimating biases using als...\n",
      "Computing the pearson similarity matrix...\n",
      "Done computing similarity matrix.\n",
      "Estimating biases using als...\n",
      "Computing the pearson similarity matrix...\n",
      "Done computing similarity matrix.\n",
      "Evaluating RMSE of algorithm KNNBaseline on 5 split(s).\n",
      "\n",
      "                  Fold 1  Fold 2  Fold 3  Fold 4  Fold 5  Mean    Std     \n",
      "RMSE (testset)    0.8799  0.8711  0.8810  0.8877  0.8695  0.8778  0.0067  \n",
      "Fit time          0.84    0.84    0.81    0.97    0.83    0.86    0.06    \n",
      "Test time         2.03    2.07    2.09    2.71    2.02    2.18    0.26    \n"
     ]
    }
   ],
   "source": [
    "# cross validating with KNNBaseline\n",
    "sim_pearson = {\"name\": \"pearson\"}\n",
    "\n",
    "# Initialize the KNNBaseline algorithm with the specified similarity options\n",
    "knn_baseline = KNNBaseline(sim_options=sim_pearson)\n",
    "\n",
    "# Cross-validate with 5 folds, using RMSE as the metric\n",
    "results1 = cross_validate(knn_baseline, data, measures=['rmse'], cv=5, verbose=True)"
   ]
  },
  {
   "cell_type": "code",
   "execution_count": 12,
   "metadata": {},
   "outputs": [
    {
     "name": "stdout",
     "output_type": "stream",
     "text": [
      "Average RMSE score for the test set: 0.8778\n"
     ]
    }
   ],
   "source": [
    "# print out the average score for the test set\n",
    "average_rmse = results1['test_rmse'].mean()\n",
    "print(f\"Average RMSE score for the test set: {average_rmse:.4f}\")"
   ]
  },
  {
   "cell_type": "markdown",
   "metadata": {},
   "source": [
    "Based off these outputs, it seems like the best performing model is the SVD model with `n_factors = 50` and a regularization rate of 0.05. Use that model or if you found one that performs better, feel free to use that to make some predictions."
   ]
  },
  {
   "cell_type": "markdown",
   "metadata": {},
   "source": [
    "## Making Recommendations\n",
    "\n",
    "It's important that the output for the recommendation is interpretable to people. Rather than returning the `movie_id` values, it would be far more valuable to return the actual title of the movie. As a first step, let's read in the movies to a dataframe and take a peek at what information we have about them."
   ]
  },
  {
   "cell_type": "code",
   "execution_count": 13,
   "metadata": {},
   "outputs": [],
   "source": [
    "df_movies = pd.read_csv('./ml-latest-small/movies.csv')"
   ]
  },
  {
   "cell_type": "code",
   "execution_count": 14,
   "metadata": {
    "scrolled": true
   },
   "outputs": [
    {
     "data": {
      "text/html": [
       "<div>\n",
       "<style scoped>\n",
       "    .dataframe tbody tr th:only-of-type {\n",
       "        vertical-align: middle;\n",
       "    }\n",
       "\n",
       "    .dataframe tbody tr th {\n",
       "        vertical-align: top;\n",
       "    }\n",
       "\n",
       "    .dataframe thead th {\n",
       "        text-align: right;\n",
       "    }\n",
       "</style>\n",
       "<table border=\"1\" class=\"dataframe\">\n",
       "  <thead>\n",
       "    <tr style=\"text-align: right;\">\n",
       "      <th></th>\n",
       "      <th>movieId</th>\n",
       "      <th>title</th>\n",
       "      <th>genres</th>\n",
       "    </tr>\n",
       "  </thead>\n",
       "  <tbody>\n",
       "    <tr>\n",
       "      <th>0</th>\n",
       "      <td>1</td>\n",
       "      <td>Toy Story (1995)</td>\n",
       "      <td>Adventure|Animation|Children|Comedy|Fantasy</td>\n",
       "    </tr>\n",
       "    <tr>\n",
       "      <th>1</th>\n",
       "      <td>2</td>\n",
       "      <td>Jumanji (1995)</td>\n",
       "      <td>Adventure|Children|Fantasy</td>\n",
       "    </tr>\n",
       "    <tr>\n",
       "      <th>2</th>\n",
       "      <td>3</td>\n",
       "      <td>Grumpier Old Men (1995)</td>\n",
       "      <td>Comedy|Romance</td>\n",
       "    </tr>\n",
       "    <tr>\n",
       "      <th>3</th>\n",
       "      <td>4</td>\n",
       "      <td>Waiting to Exhale (1995)</td>\n",
       "      <td>Comedy|Drama|Romance</td>\n",
       "    </tr>\n",
       "    <tr>\n",
       "      <th>4</th>\n",
       "      <td>5</td>\n",
       "      <td>Father of the Bride Part II (1995)</td>\n",
       "      <td>Comedy</td>\n",
       "    </tr>\n",
       "  </tbody>\n",
       "</table>\n",
       "</div>"
      ],
      "text/plain": [
       "   movieId                               title  \\\n",
       "0        1                    Toy Story (1995)   \n",
       "1        2                      Jumanji (1995)   \n",
       "2        3             Grumpier Old Men (1995)   \n",
       "3        4            Waiting to Exhale (1995)   \n",
       "4        5  Father of the Bride Part II (1995)   \n",
       "\n",
       "                                        genres  \n",
       "0  Adventure|Animation|Children|Comedy|Fantasy  \n",
       "1                   Adventure|Children|Fantasy  \n",
       "2                               Comedy|Romance  \n",
       "3                         Comedy|Drama|Romance  \n",
       "4                                       Comedy  "
      ]
     },
     "execution_count": 14,
     "metadata": {},
     "output_type": "execute_result"
    }
   ],
   "source": [
    "df_movies.head()"
   ]
  },
  {
   "cell_type": "markdown",
   "metadata": {},
   "source": [
    "## Making simple predictions\n",
    "Just as a reminder, let's look at how you make a prediction for an individual user and item. First, we'll fit the SVD model we had from before."
   ]
  },
  {
   "cell_type": "code",
   "execution_count": 15,
   "metadata": {},
   "outputs": [
    {
     "data": {
      "text/plain": [
       "<surprise.prediction_algorithms.matrix_factorization.SVD at 0x1b53a0058e0>"
      ]
     },
     "execution_count": 15,
     "metadata": {},
     "output_type": "execute_result"
    }
   ],
   "source": [
    "svd = SVD(n_factors= 50, reg_all=0.05)\n",
    "svd.fit(dataset)"
   ]
  },
  {
   "cell_type": "code",
   "execution_count": 16,
   "metadata": {},
   "outputs": [
    {
     "data": {
      "text/plain": [
       "Prediction(uid=2, iid=4, r_ui=None, est=3.0224848284553385, details={'was_impossible': False})"
      ]
     },
     "execution_count": 16,
     "metadata": {},
     "output_type": "execute_result"
    }
   ],
   "source": [
    "svd.predict(2, 4)"
   ]
  },
  {
   "cell_type": "markdown",
   "metadata": {},
   "source": [
    "This prediction value is a tuple and each of the values within it can be accessed by way of indexing. Now let's put our knowledge of recommendation systems to do something interesting: making predictions for a new user!"
   ]
  },
  {
   "cell_type": "markdown",
   "metadata": {},
   "source": [
    "## Obtaining User Ratings \n",
    "\n",
    "It's great that we have working models and everything, but wouldn't it be nice to get to recommendations specifically tailored to your preferences? That's what we'll be doing now. The first step is to create a function that allows us to pick randomly selected movies. The function should present users with a movie and ask them to rate it. If they have not seen the movie, they should be able to skip rating it. \n",
    "\n",
    "The function `movie_rater()` should take as parameters: \n",
    "\n",
    "* `movie_df`: DataFrame - a dataframe containing the movie ids, name of movie, and genres\n",
    "* `num`: int - number of ratings\n",
    "* `genre`: string - a specific genre from which to draw movies\n",
    "\n",
    "The function returns:\n",
    "* rating_list : list - a collection of dictionaries in the format of {'userId': int , 'movieId': int , 'rating': float}\n",
    "\n",
    "#### This function is optional, but fun :) "
   ]
  },
  {
   "cell_type": "code",
   "execution_count": 17,
   "metadata": {},
   "outputs": [],
   "source": [
    "def movie_rater(movie_df,num, genre=None):\n",
    "    rating_list = []\n",
    "    user_id = 1000\n",
    "    \n",
    "    if genre:\n",
    "        genre_movies = movie_df[movie_df['genres'].str.contains(genre)]\n",
    "    else:\n",
    "        genre_movies = movie_df\n",
    "    \n",
    "    sampled_movies = genre_movies.sample(min(num, len(genre_movies)), replace=False)\n",
    "    \n",
    "    for _, row in sampled_movies.iterrows():\n",
    "        movie_id = row['movieId']\n",
    "        title = row['title']\n",
    "        print(f\"\\n{title}\")\n",
    "        rating = input(\"How do you rate this movie on a scale of 1-5, press 'n' if you have not seen: \")\n",
    "        \n",
    "        if rating.lower() == 'n':\n",
    "            continue\n",
    "        \n",
    "        try:\n",
    "            rating = float(rating)\n",
    "            if 1 <= rating <= 5:\n",
    "                rating_list.append({'userId': user_id, 'movieId': movie_id, 'rating': rating})\n",
    "            else:\n",
    "                print(\"Invalid rating. Please enter a number between 1 and 5.\")\n",
    "        except ValueError:\n",
    "            print(\"Invalid input. Please enter a number or 'n'.\")\n",
    "    \n",
    "    return rating_list"
   ]
  },
  {
   "cell_type": "code",
   "execution_count": 18,
   "metadata": {
    "scrolled": true
   },
   "outputs": [
    {
     "name": "stdout",
     "output_type": "stream",
     "text": [
      "\n",
      "Cars 3 (2017)\n",
      "How do you rate this movie on a scale of 1-5, press 'n' if you have not seen: 2\n",
      "\n",
      "Cloudy with a Chance of Meatballs 2 (2013)\n",
      "How do you rate this movie on a scale of 1-5, press 'n' if you have not seen: 3\n",
      "\n",
      "Mystery Train (1989)\n",
      "How do you rate this movie on a scale of 1-5, press 'n' if you have not seen: n\n",
      "\n",
      "Miss Congeniality 2: Armed and Fabulous (2005)\n",
      "How do you rate this movie on a scale of 1-5, press 'n' if you have not seen: 5\n",
      "\n",
      "Ghost World (2001)\n",
      "How do you rate this movie on a scale of 1-5, press 'n' if you have not seen: 3\n"
     ]
    }
   ],
   "source": [
    "# try out the new function here!\n",
    "movie_df = pd.read_csv('./ml-latest-small/movies.csv')\n",
    "user_ratings = movie_rater(movie_df, num=5, genre='Comedy')"
   ]
  },
  {
   "cell_type": "markdown",
   "metadata": {},
   "source": [
    "If you're struggling to come up with the above function, you can use this list of user ratings to complete the next segment"
   ]
  },
  {
   "cell_type": "code",
   "execution_count": 19,
   "metadata": {},
   "outputs": [
    {
     "ename": "NameError",
     "evalue": "name 'user_rating' is not defined",
     "output_type": "error",
     "traceback": [
      "\u001b[1;31m---------------------------------------------------------------------------\u001b[0m",
      "\u001b[1;31mNameError\u001b[0m                                 Traceback (most recent call last)",
      "Cell \u001b[1;32mIn[19], line 1\u001b[0m\n\u001b[1;32m----> 1\u001b[0m \u001b[43muser_rating\u001b[49m\n",
      "\u001b[1;31mNameError\u001b[0m: name 'user_rating' is not defined"
     ]
    }
   ],
   "source": [
    "user_rating"
   ]
  },
  {
   "cell_type": "markdown",
   "metadata": {},
   "source": [
    "### Making Predictions With the New Ratings\n",
    "Now that you have new ratings, you can use them to make predictions for this new user. The proper way this should work is:\n",
    "\n",
    "* add the new ratings to the original ratings DataFrame, read into a `surprise` dataset \n",
    "* train a model using the new combined DataFrame\n",
    "* make predictions for the user\n",
    "* order those predictions from highest rated to lowest rated\n",
    "* return the top n recommendations with the text of the actual movie (rather than just the index number) "
   ]
  },
  {
   "cell_type": "code",
   "execution_count": 22,
   "metadata": {},
   "outputs": [],
   "source": [
    "ratings_df = pd.read_csv('./ml-latest-small/movies.csv')\n",
    "def add_new_ratings(original_ratings_df, new_ratings):\n",
    "    new_ratings_df = pd.DataFrame(user_ratings)\n",
    "    combined_df = pd.concat([original_ratings_df, new_ratings_df], ignore_index=True)\n",
    "    return combined_df\n",
    "\n",
    "combined_ratings_df = add_new_ratings(ratings_df, user_ratings)"
   ]
  },
  {
   "cell_type": "code",
   "execution_count": 23,
   "metadata": {},
   "outputs": [],
   "source": [
    "# train a model using the new combined DataFrame\n",
    "from surprise import Dataset, Reader, SVD\n",
    "from surprise.model_selection import train_test_split\n",
    "\n",
    "def train_model(combined_ratings_df):\n",
    "    reader = Reader(rating_scale=(1, 5))\n",
    "    data = Dataset.load_from_df(combined_ratings_df[['userId', 'movieId', 'rating']], reader)\n",
    "    trainset, testset = train_test_split(data, test_size=0.2)\n",
    "    algo = SVD()\n",
    "    algo.fit(trainset)\n",
    "    return algo\n",
    "\n",
    "algo = train_model(combined_ratings_df)"
   ]
  },
  {
   "cell_type": "code",
   "execution_count": 25,
   "metadata": {},
   "outputs": [],
   "source": [
    "# make predictions for the user\n",
    "# you'll probably want to create a list of tuples in the format (movie_id, predicted_score)\n",
    "movies_df = pd.read_csv('./ml-latest-small/movies.csv')\n",
    "def make_predictions(algo, movie_df, user_id):\n",
    "    predictions = []\n",
    "    for _, row in movie_df.iterrows():\n",
    "        movie_id = row['movieId']\n",
    "        prediction = algo.predict(user_id, movie_id)\n",
    "        predictions.append((movie_id, prediction.est))\n",
    "    return predictions\n",
    "\n",
    "predictions = make_predictions(algo, movies_df, 1000)"
   ]
  },
  {
   "cell_type": "code",
   "execution_count": 26,
   "metadata": {},
   "outputs": [
    {
     "name": "stdout",
     "output_type": "stream",
     "text": [
      "Recommendation #1: Toy Story (1995) (Score: 5.00)\n",
      "Recommendation #2: Jumanji (1995) (Score: 5.00)\n",
      "Recommendation #3: Grumpier Old Men (1995) (Score: 5.00)\n",
      "Recommendation #4: Waiting to Exhale (1995) (Score: 5.00)\n",
      "Recommendation #5: Father of the Bride Part II (1995) (Score: 5.00)\n"
     ]
    }
   ],
   "source": [
    "# order the predictions from highest to lowest rated\n",
    "def recommended_movies(predictions, movie_title_df, n):\n",
    "    # Sort predictions by estimated rating\n",
    "    ranked_movies = sorted(predictions, key=lambda x: x[1], reverse=True)[:n]\n",
    "    for i, (movie_id, score) in enumerate(ranked_movies, start=1):\n",
    "        title = movie_title_df[movie_title_df['movieId'] == movie_id]['title'].values[0]\n",
    "        print(f\"Recommendation #{i}: {title} (Score: {score:.2f})\")\n",
    "\n",
    "recommended_movies(predictions, movies_df, 5)"
   ]
  },
  {
   "cell_type": "markdown",
   "metadata": {},
   "source": [
    " For the final component of this challenge, it could be useful to create a function `recommended_movies()` that takes in the parameters:\n",
    "* `user_ratings`: list - list of tuples formulated as (user_id, movie_id) (should be in order of best to worst for this individual)\n",
    "* `movie_title_df`: DataFrame \n",
    "* `n`: int - number of recommended movies \n",
    "\n",
    "The function should use a `for` loop to print out each recommended *n* movies in order from best to worst"
   ]
  },
  {
   "cell_type": "code",
   "execution_count": 27,
   "metadata": {},
   "outputs": [
    {
     "name": "stdout",
     "output_type": "stream",
     "text": [
      "Rate some movies:\n",
      "\n",
      "No. 1 Ladies' Detective Agency, The (2008)\n",
      "How do you rate this movie on a scale of 1-5, press 'n' if you have not seen: 2\n",
      "\n",
      "Syrup (2013)\n",
      "How do you rate this movie on a scale of 1-5, press 'n' if you have not seen: 1\n",
      "\n",
      "Creature Comforts (1989)\n",
      "How do you rate this movie on a scale of 1-5, press 'n' if you have not seen: 3\n",
      "\n",
      "Le Maître d'école (1981)\n",
      "How do you rate this movie on a scale of 1-5, press 'n' if you have not seen: 4\n",
      "\n",
      "North (1994)\n",
      "How do you rate this movie on a scale of 1-5, press 'n' if you have not seen: 5\n",
      "\n",
      "Top Recommendations for You:\n",
      "Recommendation #1: Toy Story (1995) (Score: 5.00)\n",
      "Recommendation #2: Jumanji (1995) (Score: 5.00)\n",
      "Recommendation #3: Grumpier Old Men (1995) (Score: 5.00)\n",
      "Recommendation #4: Waiting to Exhale (1995) (Score: 5.00)\n",
      "Recommendation #5: Father of the Bride Part II (1995) (Score: 5.00)\n"
     ]
    }
   ],
   "source": [
    "# return the top n recommendations using the \n",
    "def run_recommender(ratings_df, movies_df, user_id=1000, num_ratings=5, n_recommendations=5, genre=None):\n",
    "    # Step 1: Get user ratings\n",
    "    print(\"Rate some movies:\")\n",
    "    user_ratings = movie_rater(movies_df, num_ratings, genre)\n",
    "\n",
    "    # Step 2: Combine with original dataset\n",
    "    combined_ratings_df = add_new_ratings(ratings_df, user_ratings)\n",
    "\n",
    "    # Step 3: Train new model\n",
    "    algo = train_model(combined_ratings_df)\n",
    "\n",
    "    # Step 4: Make predictions\n",
    "    predictions = make_predictions(algo, movies_df, user_id)\n",
    "\n",
    "    # Step 5: Show recommendations\n",
    "    print(\"\\nTop Recommendations for You:\")\n",
    "    recommended_movies(predictions, movies_df, n_recommendations)\n",
    "\n",
    "# Run the full recommender system\n",
    "run_recommender(ratings_df, movies_df, num_ratings=5, n_recommendations=5, genre='Comedy')"
   ]
  },
  {
   "cell_type": "markdown",
   "metadata": {},
   "source": [
    "## Level Up (Optional)\n",
    "\n",
    "* Try and chain all of the steps together into one function that asks users for ratings for a certain number of movies, then all of the above steps are performed to return the top $n$ recommendations\n",
    "* Make a recommender system that only returns items that come from a specified genre"
   ]
  },
  {
   "cell_type": "markdown",
   "metadata": {},
   "source": [
    "## Summary\n",
    "\n",
    "In this lab, you got the chance to implement a collaborative filtering model as well as retrieve recommendations from that model. You also got the opportunity to add your own recommendations to the system to get new recommendations for yourself! Next, you will learn how to use Spark to make recommender systems."
   ]
  }
 ],
 "metadata": {
  "kernelspec": {
   "display_name": "Python (learn-env)",
   "language": "python",
   "name": "learn-env"
  },
  "language_info": {
   "codemirror_mode": {
    "name": "ipython",
    "version": 3
   },
   "file_extension": ".py",
   "mimetype": "text/x-python",
   "name": "python",
   "nbconvert_exporter": "python",
   "pygments_lexer": "ipython3",
   "version": "3.8.5"
  },
  "toc": {
   "base_numbering": 1,
   "nav_menu": {},
   "number_sections": true,
   "sideBar": true,
   "skip_h1_title": false,
   "title_cell": "Table of Contents",
   "title_sidebar": "Contents",
   "toc_cell": false,
   "toc_position": {},
   "toc_section_display": true,
   "toc_window_display": false
  }
 },
 "nbformat": 4,
 "nbformat_minor": 2
}
